{
 "cells": [
  {
   "cell_type": "code",
   "execution_count": 1,
   "id": "771cf73b",
   "metadata": {
    "scrolled": true
   },
   "outputs": [],
   "source": [
    "import time\n",
    "import numpy as np\n",
    "import pickle\n",
    "\n",
    "update_dict = False\n",
    "usd_id = 2781\n",
    "\n",
    "#symbols = {}\n",
    "\n",
    "if update_dict:\n",
    "    for currency_id in range(25000):\n",
    "        time.sleep(0.05*np.random.uniform(0., 1.))\n",
    "        url = 'https://api.coinmarketcap.com/data-api/v3/cryptocurrency/historical?id={}&convertId={}&timeStart=0&timeEnd={}'.format(currency_id, usd_id, current_time)\n",
    "        response = requests.get(url)\n",
    "        if response.status_code != 200:\n",
    "            print(response, response.content)\n",
    "            break\n",
    "        else:\n",
    "            data = response.json()\n",
    "            if 'data' in data:\n",
    "                symbol = data['data']['symbol']\n",
    "                symbols[symbol] = currency_id\n",
    "                print(currency_id, symbol, currency_id)\n",
    "            else:\n",
    "                print(\"ERR:\", currency_id, data)\n",
    "    \n",
    "    with open('symbols.pkl', 'wb') as file:\n",
    "        pickle.dump(symbols, file)\n",
    "else:        \n",
    "    with open('symbols.pkl', 'rb') as file:\n",
    "        symbols = pickle.load(file)"
   ]
  },
  {
   "cell_type": "code",
   "execution_count": 2,
   "id": "7e79f97a",
   "metadata": {
    "scrolled": false
   },
   "outputs": [
    {
     "name": "stdout",
     "output_type": "stream",
     "text": [
      "BTC;2022-10-13;19156,9666133270;19453,3279714913;18319,8226296141;19382,9040336331;44219840003,8899993896;371731749298,2600097656\n",
      "ETH;2022-10-13;1294,9173837442;1297,5642474050;1209,2781567993;1288,1238946784;17499038202,2799987793;158160024664,6799926758\n",
      "BNB;2022-10-13;270,9587202568;273,4926489750;257,9745108446;271,8514210798;1124480167,1400001049;43859763700,4499969482\n",
      "TRX;2022-10-13;0,0617696248;0,0621916798;0,0595081073;0,0610086363;484368345,5899999738;5632253000,1899995804\n",
      "USDT;2022-10-13;0,9999827684;1,0001360363;0,9999322342;1,0000785233;60450860334,7200012207;68427231799,5800018311\n",
      "WAXP;2022-10-13;0,0822803340;0,0831319329;0,0751016251;0,0796621927;11377203,9000000004;178254009,5099999905\n",
      "BFG;2022-10-13;0,0133387383;0,0136457076;0,0126631977;0,0133129094;300935,1900000000;0,0000000000\n",
      "BTT;2022-10-13;0,0000007726;0,0000007737;0,0000007399;0,0000007662;22284613,0399999991;722318545,1900000572\n",
      "KLAY;2022-10-13;0,1668035997;0,1669857095;0,1483961241;0,1524740401;69255106,3900000006;469755842,0199999809\n"
     ]
    }
   ],
   "source": [
    "import requests\n",
    "from bs4 import BeautifulSoup\n",
    "\n",
    "quote_symbol = 'USD'\n",
    "quote_id = symbols[quote_symbol]\n",
    "\n",
    "sources = {\n",
    "    'bitcoin' : 'BTC', \n",
    "    'ethereum' : 'ETH',\n",
    "    'bnb' : 'BNB',\n",
    "    'tron' : 'TRX',\n",
    "    'tether' : 'USDT',\n",
    "    'wax' : 'WAXP',\n",
    "    'betfury' : 'BFG',\n",
    "    'bittorrent-new' : 'BTT',\n",
    "    'klaytn' : 'KLAY',\n",
    "}\n",
    "\n",
    "current_time = int(time.time())\n",
    "prev_time = current_time - 2*24*60*60\n",
    "\n",
    "# TODO: Improve\n",
    "def print_value(value):\n",
    "    if type(value) is float:\n",
    "        return \"{:.10f}\".format(value).replace(\".\", \",\")\n",
    "    elif type(value) is str:\n",
    "        return value\n",
    "\n",
    "def format_as_row(symbol, data):\n",
    "    tail_size = len(\"T22:19:00.000Z\")\n",
    "    values = list(data['quote'].values())\n",
    "    timestamp = str(values[-1])\n",
    "    timestamp = timestamp[:len(timestamp) - tail_size]\n",
    "    values = [timestamp] + values[:-1]\n",
    "    return symbol + \";\" + \";\".join([print_value(value) for value in values])\n",
    "        \n",
    "rows = []\n",
    "for key, symbol in sources.items():\n",
    "    currency_id = symbols[symbol]\n",
    "    url = 'https://api.coinmarketcap.com/data-api/v3/cryptocurrency/historical?id={}&convertId={}&timeStart={}&timeEnd={}'.format(currency_id, usd_id, prev_time, current_time)\n",
    "    #print(url)\n",
    "    response = requests.get(url)\n",
    "    if response.status_code != 200:\n",
    "        print(response)\n",
    "        break\n",
    "    else:\n",
    "        raw_response = response.json()\n",
    "        data = raw_response['data']['quotes'][0]\n",
    "        rows.append(format_as_row(symbol, data))\n",
    "print(\"\\n\".join(rows))"
   ]
  },
  {
   "cell_type": "code",
   "execution_count": 13,
   "id": "3966aa33",
   "metadata": {},
   "outputs": [
    {
     "data": {
      "text/plain": [
       "317.8057659824689"
      ]
     },
     "execution_count": 13,
     "metadata": {},
     "output_type": "execute_result"
    }
   ],
   "source": [
    "19068.345958948135 / 60"
   ]
  }
 ],
 "metadata": {
  "kernelspec": {
   "display_name": "Python 3.9.12 ('base')",
   "language": "python",
   "name": "python3"
  },
  "language_info": {
   "codemirror_mode": {
    "name": "ipython",
    "version": 3
   },
   "file_extension": ".py",
   "mimetype": "text/x-python",
   "name": "python",
   "nbconvert_exporter": "python",
   "pygments_lexer": "ipython3",
   "version": "3.9.12"
  },
  "vscode": {
   "interpreter": {
    "hash": "83544deb48a1d39fb33b43986b4e49c698ac5aac5933f36e963e14f4a1cfadfa"
   }
  }
 },
 "nbformat": 4,
 "nbformat_minor": 5
}
