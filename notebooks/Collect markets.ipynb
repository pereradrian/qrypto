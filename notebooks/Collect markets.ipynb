{
 "cells": [
  {
   "cell_type": "code",
   "execution_count": 2,
   "id": "771cf73b",
   "metadata": {
    "scrolled": true
   },
   "outputs": [],
   "source": [
    "import time\n",
    "import numpy as np\n",
    "import pickle\n",
    "\n",
    "update_dict = False\n",
    "usd_id = 2781\n",
    "\n",
    "#symbols = {}\n",
    "\n",
    "if update_dict:\n",
    "    for currency_id in range(25000):\n",
    "        time.sleep(0.05*np.random.uniform(0., 1.))\n",
    "        url = 'https://api.coinmarketcap.com/data-api/v3/cryptocurrency/historical?id={}&convertId={}&timeStart=0&timeEnd={}'.format(currency_id, usd_id, current_time)\n",
    "        response = requests.get(url)\n",
    "        if response.status_code != 200:\n",
    "            print(response, response.content)\n",
    "            break\n",
    "        else:\n",
    "            data = response.json()\n",
    "            if 'data' in data:\n",
    "                symbol = data['data']['symbol']\n",
    "                symbols[symbol] = currency_id\n",
    "                print(currency_id, symbol, currency_id)\n",
    "            else:\n",
    "                print(\"ERR:\", currency_id, data)\n",
    "    \n",
    "    with open('symbols.pkl', 'wb') as file:\n",
    "        pickle.dump(symbols, file)\n",
    "else:        \n",
    "    with open('../symbols.pkl', 'rb') as file:\n",
    "        symbols = pickle.load(file)"
   ]
  },
  {
   "cell_type": "code",
   "execution_count": 3,
   "id": "7e79f97a",
   "metadata": {
    "scrolled": false
   },
   "outputs": [
    {
     "name": "stdout",
     "output_type": "stream",
     "text": [
      "BTC;2022-12-02;16968,6832614793;17088,6604094023;16877,8815958777;17088,6604094023;19539705127,4599990845;328491679165,2800292969\n",
      "ETH;2022-12-02;1276,3286637941;1294,3033770767;1269,2431814086;1294,3033770767;6213645709,1899995804;158388908311,6400146484\n",
      "BNB;2022-12-02;292,0285496141;293,5274982850;286,1406803246;293,5274982850;854253817,6100000143;46955638514,8000030518\n",
      "TRX;2022-12-02;0,0541586114;0,0544455892;0,0538857068;0,0544213934;176550181,4199999869;5013784128,0699996948\n",
      "USDT;2022-12-02;1,0000415905;1,0001402550;1,0000165212;1,0000645275;26380777289,8600006104;65366898692,3700027466\n",
      "WAXP;2022-12-02;0,0625942490;0,0626075068;0,0587988712;0,0607387674;10837336,5199999996;138877580,6899999976\n",
      "BFG;2022-12-02;0,0138972883;0,0141891678;0,0136397595;0,0139510712;326000,7100000000;0,0000000000\n",
      "BTT;2022-12-02;0,0000007043;0,0000007070;0,0000006968;0,0000007068;20385511,4499999993;669978351,0199999809\n",
      "KLAY;2022-12-02;0,1898552408;0,1950123486;0,1891720026;0,1919668479;22886958,8099999987;580722783,3600000143\n"
     ]
    }
   ],
   "source": [
    "import requests\n",
    "from bs4 import BeautifulSoup\n",
    "\n",
    "quote_symbol = 'USD'\n",
    "quote_id = symbols[quote_symbol]\n",
    "\n",
    "sources = {\n",
    "    'bitcoin' : 'BTC', \n",
    "    'ethereum' : 'ETH',\n",
    "    'bnb' : 'BNB',\n",
    "    'tron' : 'TRX',\n",
    "    'tether' : 'USDT',\n",
    "    'wax' : 'WAXP',\n",
    "    'betfury' : 'BFG',\n",
    "    'bittorrent-new' : 'BTT',\n",
    "    'klaytn' : 'KLAY',\n",
    "}\n",
    "\n",
    "current_time = int(time.time())\n",
    "prev_time = current_time - 2*24*60*60\n",
    "\n",
    "# TODO: Improve\n",
    "def print_value(value):\n",
    "    if type(value) is float:\n",
    "        return \"{:.10f}\".format(value).replace(\".\", \",\")\n",
    "    elif type(value) is str:\n",
    "        return value\n",
    "\n",
    "def format_as_row(symbol, data):\n",
    "    tail_size = len(\"T22:19:00.000Z\")\n",
    "    values = list(data['quote'].values())\n",
    "    timestamp = str(values[-1])\n",
    "    timestamp = timestamp[:len(timestamp) - tail_size]\n",
    "    values = [timestamp] + values[:-1]\n",
    "    return symbol + \";\" + \";\".join([print_value(value) for value in values])\n",
    "        \n",
    "rows = []\n",
    "for key, symbol in sources.items():\n",
    "    currency_id = symbols[symbol]\n",
    "    url = 'https://api.coinmarketcap.com/data-api/v3/cryptocurrency/historical?id={}&convertId={}&timeStart={}&timeEnd={}'.format(currency_id, usd_id, prev_time, current_time)\n",
    "    #print(url)\n",
    "    response = requests.get(url)\n",
    "    if response.status_code != 200:\n",
    "        print(response)\n",
    "        break\n",
    "    else:\n",
    "        raw_response = response.json()\n",
    "        data = raw_response['data']['quotes'][0]\n",
    "        rows.append(format_as_row(symbol, data))\n",
    "print(\"\\n\".join(rows))"
   ]
  },
  {
   "cell_type": "code",
   "execution_count": 13,
   "id": "3966aa33",
   "metadata": {},
   "outputs": [
    {
     "data": {
      "text/plain": [
       "317.8057659824689"
      ]
     },
     "execution_count": 13,
     "metadata": {},
     "output_type": "execute_result"
    }
   ],
   "source": [
    "19068.345958948135 / 60"
   ]
  }
 ],
 "metadata": {
  "kernelspec": {
   "display_name": "Python 3 (ipykernel)",
   "language": "python",
   "name": "python3"
  },
  "language_info": {
   "codemirror_mode": {
    "name": "ipython",
    "version": 3
   },
   "file_extension": ".py",
   "mimetype": "text/x-python",
   "name": "python",
   "nbconvert_exporter": "python",
   "pygments_lexer": "ipython3",
   "version": "3.7.7"
  },
  "vscode": {
   "interpreter": {
    "hash": "83544deb48a1d39fb33b43986b4e49c698ac5aac5933f36e963e14f4a1cfadfa"
   }
  }
 },
 "nbformat": 4,
 "nbformat_minor": 5
}
